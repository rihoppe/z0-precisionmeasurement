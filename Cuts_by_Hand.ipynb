{
 "cells": [
  {
   "cell_type": "code",
   "execution_count": 2,
   "metadata": {
    "collapsed": false
   },
   "outputs": [
   ],
   "source": [
    "import uproot\n",
    "import awkward as ak\n",
    "import mplhep\n",
    "%matplotlib inline \n",
    "\n",
    "import numpy as np\n",
    "import matplotlib.pyplot as plt"
   ]
  },
  {
   "cell_type": "code",
   "execution_count": 3,
   "metadata": {
    "collapsed": false
   },
   "outputs": [
   ],
   "source": [
    "def Effcy_SN(condition,tp):\n",
    "    indx1 = np.where(condition)[0]\n",
    "    SN = np.where(mc_type[indx1]==tp)[0].size/len(indx1)\n",
    "    eff = 0\n",
    "    aux = {}\n",
    "    for i in mc_type[indx1]:\n",
    "        if i==tp: continue\n",
    "        if i in aux.keys(): aux[i]+=1\n",
    "        else: aux[i] = 1\n",
    "    for i in aux.keys(): aux[i]=np.round(100*aux[i]/len(indx1),3)\n",
    "    if tp==\"ELECTRON\": eff = 100*np.where(mc_type[indx1]==tp)[0].size/len(mc_ee)\n",
    "    elif tp==\"MUON\":   eff = 100*np.where(mc_type[indx1]==tp)[0].size/len(mc_mm)\n",
    "    elif tp==\"TAUS\":   eff = 100*np.where(mc_type[indx1]==tp)[0].size/len(mc_tt)\n",
    "    elif tp==\"HADRON\": eff = 100*np.where(mc_type[indx1]==tp)[0].size/len(mc_qq)\n",
    "    return np.array([[eff,SN,aux]])"
   ]
  },
  {
   "cell_type": "code",
   "execution_count": 16,
   "metadata": {
    "collapsed": false
   },
   "outputs": [
    {
     "name": "stdout",
     "output_type": "stream",
     "text": [
      "{'ELECTRON': 90525, 'MUON': 1, 'TAUS': 389, 'HADRON': 3729}\n"
     ]
    },
    {
     "data": {
      "text/plain": [
       "array([[96.50647108,  0.95647902]])"
      ]
     },
     "execution_count": 16,
     "metadata": {
     },
     "output_type": "execute_result"
    }
   ],
   "source": [
    "Effcy_SN(mc_all[\"E_ecal\"]>=75,\"ELECTRON\")"
   ]
  },
  {
   "cell_type": "code",
   "execution_count": 4,
   "metadata": {
    "collapsed": false
   },
   "outputs": [
   ],
   "source": [
    "path_mc = './opal_data/mc/'\n",
    "\n",
    "### Open the file introducing file path\n",
    "file_ee = uproot.open(path_mc+'ee.root')\n",
    "file_mm = uproot.open(path_mc+'mm.root')\n",
    "file_tt = uproot.open(path_mc+'tt.root')\n",
    "file_qq = uproot.open(path_mc+'qq.root')\n",
    "\n",
    "ttree_name = 'myTTree'\n",
    "\n",
    "### Print list of 'branches' of the TTree (i.e. list of variable names)\n",
    "file_tt[ttree_name].keys()\n",
    "\n",
    "## Load branches\n",
    "mc_ee = file_ee[ttree_name].arrays()\n",
    "mc_mm = file_mm[ttree_name].arrays()\n",
    "mc_tt = file_tt[ttree_name].arrays()\n",
    "mc_qq = file_qq[ttree_name].arrays()\n",
    "\n",
    "mc_ee = ak.to_numpy(mc_ee)\n",
    "mc_mm = ak.to_numpy(mc_mm)\n",
    "mc_tt = ak.to_numpy(mc_tt)\n",
    "mc_qq = ak.to_numpy(mc_qq)\n",
    "\n",
    "mc_type = np.concatenate(([\"ELECTRON\"]*len(mc_ee),[\"MUON\"]*len(mc_mm),[\"TAUS\"]*len(mc_tt),[\"HADRON\"]*len(mc_qq)))\n",
    "mc_all = np.concatenate((mc_ee,mc_mm,mc_tt,mc_qq))"
   ]
  },
  {
   "cell_type": "code",
   "execution_count": 16,
   "metadata": {
    "collapsed": false
   },
   "outputs": [
    {
     "name": "stdout",
     "output_type": "stream",
     "text": [
      "Electron: [[96.50647107737575 0.956479016102447\n",
      "  {'MUON': 0.001, 'TAUS': 0.411, 'HADRON': 3.94}]\n",
      " [87.27639069529434 0.6345049409029258\n",
      "  {'MUON': 13.775, 'TAUS': 20.484, 'HADRON': 2.29}]\n",
      " [99.00854992430865 0.9751569751569752\n",
      "  {'MUON': 0.002, 'TAUS': 1.89, 'HADRON': 0.592}]]\n",
      "Muon: [[88.61953147349573 0.7271462725494457\n",
      "  {'ELECTRON': 23.79, 'TAUS': 0.612, 'HADRON': 2.883}]\n",
      " [93.2179146226465 0.9127881642562198 {'TAUS': 8.721}]\n",
      " [93.04838897659486 0.9479604062995866\n",
      "  {'ELECTRON': 0.869, 'TAUS': 4.163, 'HADRON': 0.172}]]\n"
     ]
    },
    {
     "name": "stdout",
     "output_type": "stream",
     "text": [
      "Hadron: [[96.69652912350476 0.9984495311927086 {'TAUS': 0.155}]]\n",
      "Tau: [[93.34461080112101 0.8721838212743872\n",
      "  {'ELECTRON': 3.213, 'MUON': 5.961, 'HADRON': 3.607}]]\n"
     ]
    }
   ],
   "source": [
    "#Cuts for ELECTRONS\n",
    "e_cut = np.empty((0,3))\n",
    "e_cut = np.append(e_cut,Effcy_SN(mc_all[\"E_ecal\"]>=75,\"ELECTRON\"),axis=0)\n",
    "e_cut = np.append(e_cut,Effcy_SN(mc_all[\"E_hcal\"]<=2,\"ELECTRON\"),axis=0)\n",
    "e_cut = np.append(e_cut,Effcy_SN((mc_all[\"E_ecal\"]>=65) & (mc_all[\"Ncharged\"]<10),\"ELECTRON\"),axis=0)\n",
    "print(\"Electron: \" + str(e_cut))\n",
    "\n",
    "#Cuts for MUONS\n",
    "mu_cut = np.empty((0,3))\n",
    "mu_cut = np.append(mu_cut,Effcy_SN(mc_all[\"Pcharged\"]>=80,\"MUON\"),axis=0)\n",
    "mu_cut = np.append(mu_cut,Effcy_SN(mc_all[\"E_ecal\"]<=10,\"MUON\"),axis=0)\n",
    "cond = (mc_all[\"Pcharged\"]>=65) & (mc_all[\"E_ecal\"]<75) & (mc_all[\"Ncharged\"]<10)\n",
    "mu_cut = np.append(mu_cut,Effcy_SN(cond,\"MUON\"),axis=0)\n",
    "print(\"Muon: \" + str(mu_cut))\n",
    "\n",
    "#Cuts for Hadrons\n",
    "had_cut = np.empty((0,3))\n",
    "had_cut = np.append(had_cut,Effcy_SN(mc_all[\"Ncharged\"]>=10,\"HADRON\"),axis=0)\n",
    "print(\"Hadron: \" + str(had_cut))\n",
    "\n",
    "#Cuts for TAUS\n",
    "tau_cut = np.empty((0,3))\n",
    "cond = (mc_all[\"Ncharged\"]<10) & (mc_all[\"E_ecal\"]>=5) & (mc_all[\"E_ecal\"]<75) & (mc_all[\"Pcharged\"]<80)\n",
    "tau_cut = np.append(tau_cut,Effcy_SN(cond,\"TAUS\"),axis=0)\n",
    "print(\"Tau: \" + str(tau_cut))"
   ]
  },
  {
   "cell_type": "code",
   "execution_count": 0,
   "metadata": {
    "collapsed": false
   },
   "outputs": [
   ],
   "source": [
   ]
  }
 ],
 "metadata": {
  "kernelspec": {
   "display_name": "Python 3 (ROOT)",
   "language": "python",
   "name": "python3-root",
   "resource_dir": "/usr/local/share/jupyter/kernels/python3-root"
  },
  "language_info": {
   "codemirror_mode": {
    "name": "ipython",
    "version": 3
   },
   "file_extension": ".py",
   "mimetype": "text/x-python",
   "name": "python",
   "nbconvert_exporter": "python",
   "pygments_lexer": "ipython3",
   "version": "3.8.5"
  }
 },
 "nbformat": 4,
 "nbformat_minor": 4
}