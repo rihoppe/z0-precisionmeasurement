{
 "cells": [
  {
   "cell_type": "code",
   "execution_count": 2,
   "metadata": {
    "collapsed": false
   },
   "outputs": [
   ],
   "source": [
    "import uproot\n",
    "import awkward as ak\n",
    "import mplhep\n",
    "%matplotlib inline \n",
    "import numpy as np\n",
    "import matplotlib.pyplot as plt"
   ]
  },
  {
   "cell_type": "code",
   "execution_count": 8,
   "metadata": {
    "collapsed": false
   },
   "outputs": [
   ],
   "source": [
    "def Effcy_SN(condition,tp):\n",
    "    indx1 = np.where(condition)[0]\n",
    "    SN = np.where(mc_type[indx1]==tp)[0].size/len(indx1)\n",
    "    eff = 0\n",
    "    if tp==\"ELECTRON\": eff = 100*np.where(mc_type[indx1]==tp)[0].size/len(mc_ee)\n",
    "    elif tp==\"MUON\":   eff = 100*np.where(mc_type[indx1]==tp)[0].size/len(mc_mm)\n",
    "    elif tp==\"TAUS\":   eff = 100*np.where(mc_type[indx1]==tp)[0].size/len(mc_tt)\n",
    "    elif tp==\"HADRON\": eff = 100*np.where(mc_type[indx1]==tp)[0].size/len(mc_qq)\n",
    "    return eff,SN"
   ]
  },
  {
   "cell_type": "code",
   "execution_count": 4,
   "metadata": {
    "collapsed": false
   },
   "outputs": [
   ],
   "source": [
    "path_mc = './opal_data/mc/'\n",
    "\n",
    "### Open the file introducing file path\n",
    "file_ee = uproot.open(path_mc+'ee.root')\n",
    "file_mm = uproot.open(path_mc+'mm.root')\n",
    "file_tt = uproot.open(path_mc+'tt.root')\n",
    "file_qq = uproot.open(path_mc+'qq.root')\n",
    "\n",
    "ttree_name = 'myTTree'\n",
    "\n",
    "### Print list of 'branches' of the TTree (i.e. list of variable names)\n",
    "file_tt[ttree_name].keys()\n",
    "\n",
    "## Load branches\n",
    "mc_ee = file_ee[ttree_name].arrays()\n",
    "mc_mm = file_mm[ttree_name].arrays()\n",
    "mc_tt = file_tt[ttree_name].arrays()\n",
    "mc_qq = file_qq[ttree_name].arrays()\n",
    "\n",
    "mc_ee = ak.to_numpy(mc_ee)\n",
    "mc_mm = ak.to_numpy(mc_mm)\n",
    "mc_tt = ak.to_numpy(mc_tt)\n",
    "mc_qq = ak.to_numpy(mc_qq)\n",
    "\n",
    "mc_type = np.concatenate(([\"ELECTRON\"]*len(mc_ee),[\"MUON\"]*len(mc_mm),[\"TAUS\"]*len(mc_tt),[\"HADRON\"]*len(mc_qq)))\n",
    "mc_all = np.concatenate((mc_ee,mc_mm,mc_tt,mc_qq))"
   ]
  },
  {
   "cell_type": "code",
   "execution_count": 11,
   "metadata": {
    "collapsed": false
   },
   "outputs": [
    {
     "data": {
      "text/plain": [
       "(93.51629762415735, 0.7194623311286579)"
      ]
     },
     "execution_count": 11,
     "metadata": {
     },
     "output_type": "execute_result"
    }
   ],
   "source": [
    "#Cuts for ELECTRONS\n",
    "Effcy_SN(mc_all[\"E_ecal\"]>=75,\"ELECTRON\")\n",
    "Effcy_SN(mc_all[\"E_hcal\"]<=2,\"ELECTRON\")\n",
    "\n",
    "#Cuts for MUONS\n",
    "Effcy_SN(mc_all[\"Pcharged\"]>=80,\"MUONS\")\n",
    "Effcy_SN(mc_all[\"E_ecal\"]<=10,\"MUONS\")\n",
    "Effcy_SN(mc_all[\"E_hcal\"]<=2,\"MUONS\")\n",
    "\n",
    "#Cuts for Hadrons\n",
    "Effcy_SN(mc_all[\"Ncharged\"]>=15,\"HADRON\")\n",
    "\n",
    "#Cuts for TAUS\n",
    "cond = (mc_all[\"Ncharged\"]<15) & (mc_all[\"E_ecal\"]>=5) & (mc_all[\"E_ecal\"]<75) & (mc_all[\"Pcharged\"]<80)\n",
    "Effcy_SN(cond,\"TAUS\")\n",
    "\n"
   ]
  },
  {
   "cell_type": "code",
   "execution_count": 0,
   "metadata": {
    "collapsed": false
   },
   "outputs": [
   ],
   "source": [
   ]
  }
 ],
 "metadata": {
  "kernelspec": {
   "display_name": "Python 3 (ROOT)",
   "language": "python",
   "name": "python3-root",
   "resource_dir": "/usr/local/share/jupyter/kernels/python3-root"
  },
  "language_info": {
   "codemirror_mode": {
    "name": "ipython",
    "version": 3
   },
   "file_extension": ".py",
   "mimetype": "text/x-python",
   "name": "python",
   "nbconvert_exporter": "python",
   "pygments_lexer": "ipython3",
   "version": "3.8.5"
  }
 },
 "nbformat": 4,
 "nbformat_minor": 4
}