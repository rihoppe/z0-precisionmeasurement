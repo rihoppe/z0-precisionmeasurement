{
 "cells": [
  {
   "cell_type": "code",
   "execution_count": 1,
   "metadata": {
    "collapsed": false
   },
   "outputs": [
   ],
   "source": [
    "import uproot\n",
    "import awkward as ak\n",
    "import mplhep\n",
    "%matplotlib inline\n",
    "\n",
    "import numpy as np\n",
    "import matplotlib.pyplot as plt"
   ]
  },
  {
   "cell_type": "code",
   "execution_count": 2,
   "metadata": {
    "collapsed": false
   },
   "outputs": [
   ],
   "source": [
    "def Effcy_SN(condition,tp):\n",
    "    indx1 = np.where(condition)[0]\n",
    "    SN = np.where(mc_type[indx1]==tp)[0].size/len(indx1)\n",
    "    eff = 0\n",
    "    aux = {}\n",
    "    for i in mc_type[indx1]:\n",
    "        if i==tp: continue\n",
    "        if i in aux.keys(): aux[i]+=1\n",
    "        else: aux[i] = 1\n",
    "    for i in aux.keys(): aux[i]=np.round(100*aux[i]/len(indx1),3)\n",
    "    if tp==\"ELECTRON\": eff = 100*np.where(mc_type[indx1]==tp)[0].size/len(mc_ee)\n",
    "    elif tp==\"MUON\":   eff = 100*np.where(mc_type[indx1]==tp)[0].size/len(mc_mm)\n",
    "    elif tp==\"TAUS\":   eff = 100*np.where(mc_type[indx1]==tp)[0].size/len(mc_tt)\n",
    "    elif tp==\"HADRON\": eff = 100*np.where(mc_type[indx1]==tp)[0].size/len(mc_qq)\n",
    "    return np.array([[eff,SN,aux]])"
   ]
  },
  {
   "cell_type": "code",
   "execution_count": 3,
   "metadata": {
    "collapsed": false
   },
   "outputs": [
   ],
   "source": [
    "path_mc = './opal_data/mc/'\n",
    "\n",
    "### Open the file introducing file path\n",
    "file_ee = uproot.open(path_mc+'ee.root')\n",
    "file_mm = uproot.open(path_mc+'mm.root')\n",
    "file_tt = uproot.open(path_mc+'tt.root')\n",
    "file_qq = uproot.open(path_mc+'qq.root')\n",
    "\n",
    "ttree_name = 'myTTree'\n",
    "\n",
    "### Print list of 'branches' of the TTree (i.e. list of variable names)\n",
    "file_tt[ttree_name].keys()\n",
    "\n",
    "## Load branches\n",
    "mc_ee = file_ee[ttree_name].arrays()\n",
    "mc_mm = file_mm[ttree_name].arrays()\n",
    "mc_tt = file_tt[ttree_name].arrays()\n",
    "mc_qq = file_qq[ttree_name].arrays()\n",
    "\n",
    "mc_ee = ak.to_numpy(mc_ee)\n",
    "mc_mm = ak.to_numpy(mc_mm)\n",
    "mc_tt = ak.to_numpy(mc_tt)\n",
    "mc_qq = ak.to_numpy(mc_qq)\n",
    "\n",
    "mc_type = np.concatenate(([\"ELECTRON\"]*len(mc_ee),[\"MUON\"]*len(mc_mm),[\"TAUS\"]*len(mc_tt),[\"HADRON\"]*len(mc_qq)))\n",
    "mc_all = np.concatenate((mc_ee,mc_mm,mc_tt,mc_qq))"
   ]
  },
  {
   "cell_type": "code",
   "execution_count": 4,
   "metadata": {
    "collapsed": false
   },
   "outputs": [
    {
     "name": "stdout",
     "output_type": "stream",
     "text": [
      "Electron: [[96.50647107737575 0.956479016102447\n",
      "  {'MUON': 0.001, 'TAUS': 0.411, 'HADRON': 3.94}]\n",
      " [87.27639069529434 0.6345049409029258\n",
      "  {'MUON': 13.775, 'TAUS': 20.484, 'HADRON': 2.29}]\n",
      " [99.00854992430865 0.9751569751569752\n",
      "  {'MUON': 0.002, 'TAUS': 1.89, 'HADRON': 0.592}]]\n",
      "Muon: [[88.61953147349573 0.7271462725494457\n",
      "  {'ELECTRON': 23.79, 'TAUS': 0.612, 'HADRON': 2.883}]\n",
      " [93.2179146226465 0.9127881642562198 {'TAUS': 8.721}]\n",
      " [93.04838897659486 0.9479604062995866\n",
      "  {'ELECTRON': 0.869, 'TAUS': 4.163, 'HADRON': 0.172}]]\n"
     ]
    },
    {
     "name": "stdout",
     "output_type": "stream",
     "text": [
      "Hadron: [[99.47241865608798 0.9898933807196801 {'ELECTRON': 0.025, 'TAUS': 0.985}]]\n",
      "Tau: [[93.34461080112101 0.8721838212743872\n",
      "  {'ELECTRON': 3.213, 'MUON': 5.961, 'HADRON': 3.607}]]\n"
     ]
    }
   ],
   "source": [
    "#Cuts for ELECTRONS\n",
    "e_cut = np.empty((0,3))\n",
    "e_cut = np.append(e_cut,Effcy_SN(mc_all[\"E_ecal\"]>=75,\"ELECTRON\"),axis=0)\n",
    "e_cut = np.append(e_cut,Effcy_SN(mc_all[\"E_hcal\"]<=2,\"ELECTRON\"),axis=0)\n",
    "e_cut = np.append(e_cut,Effcy_SN((mc_all[\"E_ecal\"]>=65) & (mc_all[\"Ncharged\"]<10),\"ELECTRON\"),axis=0)\n",
    "print(\"Electron: \" + str(e_cut))\n",
    "\n",
    "#Cuts for MUONS\n",
    "mu_cut = np.empty((0,3))\n",
    "mu_cut = np.append(mu_cut,Effcy_SN(mc_all[\"Pcharged\"]>=80,\"MUON\"),axis=0)\n",
    "mu_cut = np.append(mu_cut,Effcy_SN(mc_all[\"E_ecal\"]<=10,\"MUON\"),axis=0)\n",
    "cond = (mc_all[\"Pcharged\"]>=65) & (mc_all[\"E_ecal\"]<75) & (mc_all[\"Ncharged\"]<10)\n",
    "mu_cut = np.append(mu_cut,Effcy_SN(cond,\"MUON\"),axis=0)\n",
    "print(\"Muon: \" + str(mu_cut))\n",
    "\n",
    "#Cuts for Hadrons\n",
    "had_cut = np.empty((0,3))\n",
    "had_cut = np.append(had_cut,Effcy_SN(mc_all[\"Ncharged\"]>=7,\"HADRON\"),axis=0)\n",
    "print(\"Hadron: \" + str(had_cut))\n",
    "\n",
    "#Cuts for TAUS\n",
    "tau_cut = np.empty((0,3))\n",
    "cond = (mc_all[\"Ncharged\"]<10) & (mc_all[\"E_ecal\"]>=5) & (mc_all[\"E_ecal\"]<75) & (mc_all[\"Pcharged\"]<80)\n",
    "tau_cut = np.append(tau_cut,Effcy_SN(cond,\"TAUS\"),axis=0)\n",
    "print(\"Tau: \" + str(tau_cut))"
   ]
  },
  {
   "cell_type": "code",
   "execution_count": 131,
   "metadata": {
    "collapsed": false
   },
   "outputs": [
    {
     "name": "stdout",
     "output_type": "stream",
     "text": [
      "50\n"
     ]
    },
    {
     "name": "stdout",
     "output_type": "stream",
     "text": [
      "51\n"
     ]
    },
    {
     "name": "stdout",
     "output_type": "stream",
     "text": [
      "52\n"
     ]
    },
    {
     "name": "stdout",
     "output_type": "stream",
     "text": [
      "53\n"
     ]
    },
    {
     "name": "stdout",
     "output_type": "stream",
     "text": [
      "54\n"
     ]
    },
    {
     "name": "stdout",
     "output_type": "stream",
     "text": [
      "55\n"
     ]
    },
    {
     "name": "stdout",
     "output_type": "stream",
     "text": [
      "56\n"
     ]
    },
    {
     "name": "stdout",
     "output_type": "stream",
     "text": [
      "57\n"
     ]
    },
    {
     "name": "stdout",
     "output_type": "stream",
     "text": [
      "58\n"
     ]
    },
    {
     "name": "stdout",
     "output_type": "stream",
     "text": [
      "59\n"
     ]
    },
    {
     "name": "stdout",
     "output_type": "stream",
     "text": [
      "60\n"
     ]
    },
    {
     "name": "stdout",
     "output_type": "stream",
     "text": [
      "61\n"
     ]
    },
    {
     "name": "stdout",
     "output_type": "stream",
     "text": [
      "62\n"
     ]
    },
    {
     "name": "stdout",
     "output_type": "stream",
     "text": [
      "63\n"
     ]
    },
    {
     "name": "stdout",
     "output_type": "stream",
     "text": [
      "64\n"
     ]
    },
    {
     "name": "stdout",
     "output_type": "stream",
     "text": [
      "65\n"
     ]
    },
    {
     "name": "stdout",
     "output_type": "stream",
     "text": [
      "66\n"
     ]
    },
    {
     "name": "stdout",
     "output_type": "stream",
     "text": [
      "67\n"
     ]
    },
    {
     "name": "stdout",
     "output_type": "stream",
     "text": [
      "68\n"
     ]
    },
    {
     "name": "stdout",
     "output_type": "stream",
     "text": [
      "69\n"
     ]
    },
    {
     "name": "stdout",
     "output_type": "stream",
     "text": [
      "70\n"
     ]
    },
    {
     "name": "stdout",
     "output_type": "stream",
     "text": [
      "71\n"
     ]
    },
    {
     "name": "stdout",
     "output_type": "stream",
     "text": [
      "72\n"
     ]
    },
    {
     "name": "stdout",
     "output_type": "stream",
     "text": [
      "73\n"
     ]
    },
    {
     "name": "stdout",
     "output_type": "stream",
     "text": [
      "74\n"
     ]
    },
    {
     "name": "stdout",
     "output_type": "stream",
     "text": [
      "75\n"
     ]
    },
    {
     "name": "stdout",
     "output_type": "stream",
     "text": [
      "76\n"
     ]
    },
    {
     "name": "stdout",
     "output_type": "stream",
     "text": [
      "77\n"
     ]
    },
    {
     "name": "stdout",
     "output_type": "stream",
     "text": [
      "78\n"
     ]
    },
    {
     "name": "stdout",
     "output_type": "stream",
     "text": [
      "79\n"
     ]
    },
    {
     "name": "stdout",
     "output_type": "stream",
     "text": [
      "80\n"
     ]
    },
    {
     "name": "stdout",
     "output_type": "stream",
     "text": [
      "81\n"
     ]
    },
    {
     "name": "stdout",
     "output_type": "stream",
     "text": [
      "82\n"
     ]
    },
    {
     "name": "stdout",
     "output_type": "stream",
     "text": [
      "83\n"
     ]
    },
    {
     "name": "stdout",
     "output_type": "stream",
     "text": [
      "84\n"
     ]
    },
    {
     "name": "stdout",
     "output_type": "stream",
     "text": [
      "85\n"
     ]
    },
    {
     "name": "stdout",
     "output_type": "stream",
     "text": [
      "86\n"
     ]
    },
    {
     "name": "stdout",
     "output_type": "stream",
     "text": [
      "87\n"
     ]
    },
    {
     "name": "stdout",
     "output_type": "stream",
     "text": [
      "88\n"
     ]
    },
    {
     "name": "stdout",
     "output_type": "stream",
     "text": [
      "89\n"
     ]
    },
    {
     "name": "stdout",
     "output_type": "stream",
     "text": [
      "90\n"
     ]
    },
    {
     "name": "stdout",
     "output_type": "stream",
     "text": [
      "91\n"
     ]
    },
    {
     "name": "stdout",
     "output_type": "stream",
     "text": [
      "92\n"
     ]
    },
    {
     "name": "stdout",
     "output_type": "stream",
     "text": [
      "93\n"
     ]
    },
    {
     "name": "stdout",
     "output_type": "stream",
     "text": [
      "94\n"
     ]
    },
    {
     "name": "stdout",
     "output_type": "stream",
     "text": [
      "95\n"
     ]
    },
    {
     "name": "stdout",
     "output_type": "stream",
     "text": [
      "96\n"
     ]
    },
    {
     "name": "stdout",
     "output_type": "stream",
     "text": [
      "97\n"
     ]
    },
    {
     "name": "stdout",
     "output_type": "stream",
     "text": [
      "98\n"
     ]
    },
    {
     "name": "stdout",
     "output_type": "stream",
     "text": [
      "99\n"
     ]
    }
   ],
   "source": [
    "n = -100\n",
    "a = np.empty((0,4))\n",
    "for i in range(50,100):\n",
    "    print(i)\n",
    "    for j in range(5,50):\n",
    "        val = Effcy_SN((mc_all[\"E_ecal\"]>=i) & (mc_all[\"Ncharged\"]<j),\"ELECTRON\")\n",
    "        a = np.append(a,np.array([[val[0][0],val[0][1],i,j]]),axis=0)\n",
    "        if val[0][0]*val[0][1]>n: \n",
    "            aux_cut = (i,j)\n",
    "            n=val[0][0]*val[0][1]"
   ]
  },
  {
   "cell_type": "code",
   "execution_count": 136,
   "metadata": {
    "collapsed": false
   },
   "outputs": [
   ],
   "source": [
    "b = np.zeros((50,45))\n",
    "for i in range(len(a)):\n",
    "    x = int(a[:,2][i])-50\n",
    "    y = int(a[:,3][i])-5\n",
    "    b[x][y] = a[:,1][i]*a[:,0][i]/100"
   ]
  },
  {
   "cell_type": "code",
   "execution_count": 157,
   "metadata": {
    "collapsed": false
   },
   "outputs": [
    {
     "data": {
      "text/plain": [
       "[<matplotlib.lines.Line2D at 0x7f19cc37f850>]"
      ]
     },
     "execution_count": 157,
     "metadata": {
     },
     "output_type": "execute_result"
    },
    {
     "data": {
      "image/png": "[encoded data removed]",
      "text/plain": [
       "<Figure size 432x288 with 2 Axes>"
      ]
     },
     "execution_count": 157,
     "metadata": {
      "needs_background": "light"
     },
     "output_type": "execute_result"
    }
   ],
   "source": [
    "plt.contourf(np.arange(len(b[0]))[::-1]+5,np.arange(len(b))[::-1]+50,b,25)\n",
    "plt.colorbar()\n",
    "plt.contour(np.arange(len(b[0]))[::-1]+5,np.arange(len(b))[::-1]+50,b,25,colors=\"k\",linestyles=\"dashed\",linewidths=1)\n",
    "plt.plot(7,69,\"*\",c=\"r\")\n",
    "# plt.xlim(5,10)\n",
    "# plt.ylim(60,80)"
   ]
  },
  {
   "cell_type": "code",
   "execution_count": 138,
   "metadata": {
    "collapsed": false
   },
   "outputs": [
    {
     "data": {
      "text/plain": [
       "(69, 7)"
      ]
     },
     "execution_count": 138,
     "metadata": {
     },
     "output_type": "execute_result"
    }
   ],
   "source": [
    "aux_cut"
   ]
  },
  {
   "cell_type": "code",
   "execution_count": 158,
   "metadata": {
    "collapsed": false
   },
   "outputs": [
    {
     "name": "stdout",
     "output_type": "stream",
     "text": [
      "Electron: [[96.50647107737575 0.956479016102447\n",
      "  {'MUON': 0.001, 'TAUS': 0.411, 'HADRON': 3.94}]\n",
      " [87.27639069529434 0.6345049409029258\n",
      "  {'MUON': 13.775, 'TAUS': 20.484, 'HADRON': 2.29}]\n",
      " [99.00854992430865 0.9751569751569752\n",
      "  {'MUON': 0.002, 'TAUS': 1.89, 'HADRON': 0.592}]\n",
      " [98.40195305004158 0.9889430545883109\n",
      "  {'MUON': 0.001, 'TAUS': 1.057, 'HADRON': 0.047}]]\n"
     ]
    }
   ],
   "source": [
    "e_cut = np.append(e_cut,Effcy_SN((mc_all[\"E_ecal\"]>=aux_cut[0]) & (mc_all[\"Ncharged\"]<aux_cut[1]),\"ELECTRON\"),axis=0)\n",
    "print(\"Electron: \" + str(e_cut))"
   ]
  },
  {
   "cell_type": "code",
   "execution_count": 161,
   "metadata": {
    "collapsed": false
   },
   "outputs": [
    {
     "name": "stdout",
     "output_type": "stream",
     "text": [
      "68.0\n"
     ]
    },
    {
     "name": "stdout",
     "output_type": "stream",
     "text": [
      "68.1\n"
     ]
    },
    {
     "name": "stdout",
     "output_type": "stream",
     "text": [
      "68.19999999999999\n"
     ]
    },
    {
     "name": "stdout",
     "output_type": "stream",
     "text": [
      "68.29999999999998\n"
     ]
    },
    {
     "name": "stdout",
     "output_type": "stream",
     "text": [
      "68.39999999999998\n"
     ]
    },
    {
     "name": "stdout",
     "output_type": "stream",
     "text": [
      "68.49999999999997\n"
     ]
    },
    {
     "name": "stdout",
     "output_type": "stream",
     "text": [
      "68.59999999999997\n"
     ]
    },
    {
     "name": "stdout",
     "output_type": "stream",
     "text": [
      "68.69999999999996\n"
     ]
    },
    {
     "name": "stdout",
     "output_type": "stream",
     "text": [
      "68.79999999999995\n"
     ]
    },
    {
     "name": "stdout",
     "output_type": "stream",
     "text": [
      "68.89999999999995\n"
     ]
    },
    {
     "name": "stdout",
     "output_type": "stream",
     "text": [
      "68.99999999999994\n"
     ]
    },
    {
     "name": "stdout",
     "output_type": "stream",
     "text": [
      "69.09999999999994\n"
     ]
    },
    {
     "name": "stdout",
     "output_type": "stream",
     "text": [
      "69.19999999999993\n"
     ]
    },
    {
     "name": "stdout",
     "output_type": "stream",
     "text": [
      "69.29999999999993\n"
     ]
    },
    {
     "name": "stdout",
     "output_type": "stream",
     "text": [
      "69.39999999999992\n"
     ]
    },
    {
     "name": "stdout",
     "output_type": "stream",
     "text": [
      "69.49999999999991\n"
     ]
    },
    {
     "name": "stdout",
     "output_type": "stream",
     "text": [
      "69.59999999999991\n"
     ]
    },
    {
     "name": "stdout",
     "output_type": "stream",
     "text": [
      "69.6999999999999\n"
     ]
    },
    {
     "name": "stdout",
     "output_type": "stream",
     "text": [
      "69.7999999999999\n"
     ]
    },
    {
     "name": "stdout",
     "output_type": "stream",
     "text": [
      "69.89999999999989\n"
     ]
    }
   ],
   "source": [
    "n = -100\n",
    "a = np.empty((0,4))\n",
    "for i in np.arange(68,70,.1):\n",
    "    print(i)\n",
    "    for j in range(5,50):\n",
    "        val = Effcy_SN((mc_all[\"E_ecal\"]>=i) & (mc_all[\"Ncharged\"]<j),\"ELECTRON\")\n",
    "        a = np.append(a,np.array([[val[0][0],val[0][1],i,j]]),axis=0)\n",
    "        if val[0][0]*val[0][1]>n: \n",
    "            aux_cut = (i,j)\n",
    "            n=val[0][0]*val[0][1]"
   ]
  },
  {
   "cell_type": "code",
   "execution_count": 162,
   "metadata": {
    "collapsed": false
   },
   "outputs": [
    {
     "name": "stdout",
     "output_type": "stream",
     "text": [
      "Electron: [[96.50647107737575 0.956479016102447\n",
      "  {'MUON': 0.001, 'TAUS': 0.411, 'HADRON': 3.94}]\n",
      " [87.27639069529434 0.6345049409029258\n",
      "  {'MUON': 13.775, 'TAUS': 20.484, 'HADRON': 2.29}]\n",
      " [99.00854992430865 0.9751569751569752\n",
      "  {'MUON': 0.002, 'TAUS': 1.89, 'HADRON': 0.592}]\n",
      " [98.40195305004158 0.9889430545883109\n",
      "  {'MUON': 0.001, 'TAUS': 1.057, 'HADRON': 0.047}]\n",
      " [98.40195305004158 0.9889430545883109\n",
      "  {'MUON': 0.001, 'TAUS': 1.057, 'HADRON': 0.047}]]\n"
     ]
    }
   ],
   "source": [
    "e_cut = np.append(e_cut,Effcy_SN((mc_all[\"E_ecal\"]>=aux_cut[0]) & (mc_all[\"Ncharged\"]<aux_cut[1]),\"ELECTRON\"),axis=0)\n",
    "print(\"Electron: \" + str(e_cut))"
   ]
  },
  {
   "cell_type": "code",
   "execution_count": 163,
   "metadata": {
    "collapsed": false
   },
   "outputs": [
    {
     "data": {
      "text/plain": [
       "(68.99999999999994, 7)"
      ]
     },
     "execution_count": 163,
     "metadata": {
     },
     "output_type": "execute_result"
    }
   ],
   "source": [
    "aux_cut"
   ]
  },
  {
   "cell_type": "code",
   "execution_count": 0,
   "metadata": {
    "collapsed": false
   },
   "outputs": [
   ],
   "source": [
   ]
  }
 ],
 "metadata": {
  "kernelspec": {
   "display_name": "Python 3 (ROOT)",
   "language": "python",
   "name": "python3-root",
   "resource_dir": "/usr/local/share/jupyter/kernels/python3-root"
  },
  "language_info": {
   "codemirror_mode": {
    "name": "ipython",
    "version": 3
   },
   "file_extension": ".py",
   "mimetype": "text/x-python",
   "name": "python",
   "nbconvert_exporter": "python",
   "pygments_lexer": "ipython3",
   "version": "3.8.5"
  }
 },
 "nbformat": 4,
 "nbformat_minor": 4
}